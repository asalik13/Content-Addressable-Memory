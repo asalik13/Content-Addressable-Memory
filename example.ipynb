{
 "cells": [
  {
   "cell_type": "code",
   "execution_count": 855,
   "metadata": {},
   "outputs": [],
   "source": [
    "import serial\n",
    "import bitarray\n",
    "import os\n",
    "import time"
   ]
  },
  {
   "cell_type": "code",
   "execution_count": 856,
   "metadata": {},
   "outputs": [],
   "source": [
    "#os.system('tinyprog -b')"
   ]
  },
  {
   "cell_type": "code",
   "execution_count": 857,
   "metadata": {},
   "outputs": [],
   "source": [
    "port = serial.Serial(\"/dev/tty.usbmodem14201\", 9600)\n"
   ]
  },
  {
   "cell_type": "code",
   "execution_count": 858,
   "metadata": {},
   "outputs": [
    {
     "name": "stdout",
     "output_type": "stream",
     "text": [
      "00000000000000000000000000000000000000000000000000000000000000000000000000000000000000000000000000000001 104\n"
     ]
    }
   ],
   "source": [
    "b = bitarray.bitarray()\n",
    "port.write(b\"f\\r\\n\")\n",
    "x = port.readline()\n",
    "port.readline()\n",
    "b.frombytes(x[:-2])\n",
    "binary = b.to01()\n",
    "print(binary, len(binary))"
   ]
  },
  {
   "cell_type": "code",
   "execution_count": 859,
   "metadata": {},
   "outputs": [
    {
     "data": {
      "text/plain": [
       "3"
      ]
     },
     "execution_count": 859,
     "metadata": {},
     "output_type": "execute_result"
    }
   ],
   "source": [
    "port.write(b\"g\\r\\n\")\n",
    "time.sleep(0.1)\n",
    "port.write(b\"h\\r\\n\")"
   ]
  },
  {
   "cell_type": "code",
   "execution_count": 860,
   "metadata": {},
   "outputs": [
    {
     "name": "stdout",
     "output_type": "stream",
     "text": [
      "00000000000000000000000000000000000000000000000000000000000000000000000000000000000101111111111111111111 104\n"
     ]
    }
   ],
   "source": [
    "b = bitarray.bitarray()\n",
    "port.write(b\"f\\r\\n\")\n",
    "x = port.readline()\n",
    "port.readline()\n",
    "b.frombytes(x[:-2])\n",
    "binary = b.to01()\n",
    "print(binary, len(binary))"
   ]
  },
  {
   "cell_type": "code",
   "execution_count": 861,
   "metadata": {},
   "outputs": [
    {
     "data": {
      "text/plain": [
       "3"
      ]
     },
     "execution_count": 861,
     "metadata": {},
     "output_type": "execute_result"
    }
   ],
   "source": [
    "port.write(b\"e\\r\\n\")"
   ]
  },
  {
   "cell_type": "code",
   "execution_count": 862,
   "metadata": {},
   "outputs": [
    {
     "name": "stdout",
     "output_type": "stream",
     "text": [
      "00000000000000000000000000000000000000000000000000000000000000000000000000000000000000000000000000000001 104\n"
     ]
    }
   ],
   "source": [
    "b = bitarray.bitarray()\n",
    "port.write(b\"f\\r\\n\")\n",
    "x = port.readline()\n",
    "port.readline()\n",
    "b.frombytes(x[:-2])\n",
    "binary = b.to01()\n",
    "print(binary, len(binary))"
   ]
  },
  {
   "cell_type": "code",
   "execution_count": null,
   "metadata": {},
   "outputs": [],
   "source": []
  },
  {
   "cell_type": "code",
   "execution_count": null,
   "metadata": {},
   "outputs": [],
   "source": []
  }
 ],
 "metadata": {
  "kernelspec": {
   "display_name": "Python 3",
   "language": "python",
   "name": "python3"
  },
  "language_info": {
   "codemirror_mode": {
    "name": "ipython",
    "version": 3
   },
   "file_extension": ".py",
   "mimetype": "text/x-python",
   "name": "python",
   "nbconvert_exporter": "python",
   "pygments_lexer": "ipython3",
   "version": "3.7.3"
  }
 },
 "nbformat": 4,
 "nbformat_minor": 4
}
