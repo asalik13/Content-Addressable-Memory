{
 "cells": [
  {
   "cell_type": "code",
   "execution_count": 1877,
   "metadata": {},
   "outputs": [],
   "source": [
    "import serial\n",
    "import bitarray\n",
    "import os\n",
    "import time"
   ]
  },
  {
   "cell_type": "code",
   "execution_count": 1906,
   "metadata": {},
   "outputs": [
    {
     "data": {
      "text/plain": [
       "0"
      ]
     },
     "execution_count": 1906,
     "metadata": {},
     "output_type": "execute_result"
    }
   ],
   "source": [
    "os.system('tinyprog -b')"
   ]
  },
  {
   "cell_type": "code",
   "execution_count": 1907,
   "metadata": {},
   "outputs": [],
   "source": [
    "port = serial.Serial(\"/dev/tty.usbmodem14201\", 9600)\n"
   ]
  },
  {
   "cell_type": "code",
   "execution_count": 1908,
   "metadata": {},
   "outputs": [
    {
     "name": "stdout",
     "output_type": "stream",
     "text": [
      "0000000000000000 16\n"
     ]
    },
    {
     "data": {
      "text/plain": [
       "b'\\x00\\x00\\r\\n'"
      ]
     },
     "execution_count": 1908,
     "metadata": {},
     "output_type": "execute_result"
    }
   ],
   "source": [
    "b = bitarray.bitarray()\n",
    "port.write(b\"f\\r\\n\")\n",
    "x = port.readline()\n",
    "port.readline()\n",
    "b.frombytes(x[:-2])\n",
    "binary = b.to01()\n",
    "print(binary, len(binary))\n",
    "x"
   ]
  },
  {
   "cell_type": "code",
   "execution_count": 1909,
   "metadata": {},
   "outputs": [
    {
     "data": {
      "text/plain": [
       "3"
      ]
     },
     "execution_count": 1909,
     "metadata": {},
     "output_type": "execute_result"
    }
   ],
   "source": [
    "port.write(b\"g\\r\\n\")\n",
    "port.write(b\"h\\r\\n\")"
   ]
  },
  {
   "cell_type": "code",
   "execution_count": 1910,
   "metadata": {},
   "outputs": [
    {
     "name": "stdout",
     "output_type": "stream",
     "text": [
      "1111111111111111 16\n"
     ]
    }
   ],
   "source": [
    "b = bitarray.bitarray()\n",
    "port.write(b\"f\\r\\n\")\n",
    "x = port.readline()\n",
    "port.readline()\n",
    "b.frombytes(x[:-2])\n",
    "binary = b.to01()\n",
    "print(binary, len(binary))"
   ]
  },
  {
   "cell_type": "code",
   "execution_count": 1882,
   "metadata": {},
   "outputs": [
    {
     "data": {
      "text/plain": [
       "3"
      ]
     },
     "execution_count": 1882,
     "metadata": {},
     "output_type": "execute_result"
    }
   ],
   "source": [
    "port.write(b\"e\\r\\n\")"
   ]
  },
  {
   "cell_type": "code",
   "execution_count": 1889,
   "metadata": {},
   "outputs": [
    {
     "name": "stdout",
     "output_type": "stream",
     "text": [
      "0000000000000001 16\n"
     ]
    }
   ],
   "source": [
    "b = bitarray.bitarray()\n",
    "port.write(b\"f\\r\\n\")\n",
    "x = port.readline()\n",
    "port.readline()\n",
    "b.frombytes(x[:-2])\n",
    "binary = b.to01()\n",
    "print(binary, len(binary))"
   ]
  },
  {
   "cell_type": "code",
   "execution_count": 1890,
   "metadata": {},
   "outputs": [
    {
     "data": {
      "text/plain": [
       "6"
      ]
     },
     "execution_count": 1890,
     "metadata": {},
     "output_type": "execute_result"
    }
   ],
   "source": [
    "port.write(b\"i\\r\\n\")\n",
    "time.sleep(0.1)\n",
    "port.write(b\"nuff\\r\\n\")"
   ]
  },
  {
   "cell_type": "code",
   "execution_count": 1913,
   "metadata": {},
   "outputs": [
    {
     "data": {
      "text/plain": [
       "b'ERROR\\r\\n'"
      ]
     },
     "execution_count": 1913,
     "metadata": {},
     "output_type": "execute_result"
    }
   ],
   "source": [
    "port.write(b\"rf\\r\")\n",
    "port.readline()"
   ]
  },
  {
   "cell_type": "code",
   "execution_count": 1914,
   "metadata": {},
   "outputs": [
    {
     "data": {
      "text/plain": [
       "b'\\n'"
      ]
     },
     "execution_count": 1914,
     "metadata": {},
     "output_type": "execute_result"
    }
   ],
   "source": [
    "port.readline()"
   ]
  },
  {
   "cell_type": "code",
   "execution_count": 1894,
   "metadata": {},
   "outputs": [
    {
     "data": {
      "text/plain": [
       "b'ERROR\\r\\n'"
      ]
     },
     "execution_count": 1894,
     "metadata": {},
     "output_type": "execute_result"
    }
   ],
   "source": [
    "b = bitarray.bitarray()\n",
    "port.write(b\"j\\r\\n\")\n",
    "x = port.readline()\n",
    "port.readline()\n",
    "x"
   ]
  },
  {
   "cell_type": "code",
   "execution_count": 1865,
   "metadata": {},
   "outputs": [
    {
     "data": {
      "text/plain": [
       "b'hemm\\r\\n'"
      ]
     },
     "execution_count": 1865,
     "metadata": {},
     "output_type": "execute_result"
    }
   ],
   "source": [
    "port.write(b\"a\\r\\n\")\n",
    "port.write(b\"mmeh\\r\\n\")\n",
    "port.write(b\"b\\r\\n\")\n",
    "port.readline()"
   ]
  },
  {
   "cell_type": "code",
   "execution_count": 1893,
   "metadata": {},
   "outputs": [
    {
     "data": {
      "text/plain": [
       "b'\\n'"
      ]
     },
     "execution_count": 1893,
     "metadata": {},
     "output_type": "execute_result"
    }
   ],
   "source": [
    "port.readline()\n"
   ]
  },
  {
   "cell_type": "code",
   "execution_count": null,
   "metadata": {},
   "outputs": [],
   "source": []
  },
  {
   "cell_type": "code",
   "execution_count": null,
   "metadata": {},
   "outputs": [],
   "source": []
  }
 ],
 "metadata": {
  "kernelspec": {
   "display_name": "Python 3",
   "language": "python",
   "name": "python3"
  },
  "language_info": {
   "codemirror_mode": {
    "name": "ipython",
    "version": 3
   },
   "file_extension": ".py",
   "mimetype": "text/x-python",
   "name": "python",
   "nbconvert_exporter": "python",
   "pygments_lexer": "ipython3",
   "version": "3.7.3"
  }
 },
 "nbformat": 4,
 "nbformat_minor": 4
}
